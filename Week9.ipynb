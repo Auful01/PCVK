{
  "nbformat": 4,
  "nbformat_minor": 0,
  "metadata": {
    "colab": {
      "name": "Week9.ipynb",
      "provenance": [],
      "collapsed_sections": [],
      "mount_file_id": "16119YLklTav2RvWSzI1oacJ29pyeq6qp",
      "authorship_tag": "ABX9TyOopMhNJbzV/rplULkfjFou",
      "include_colab_link": true
    },
    "kernelspec": {
      "name": "python3",
      "display_name": "Python 3"
    },
    "language_info": {
      "name": "python"
    }
  },
  "cells": [
    {
      "cell_type": "markdown",
      "metadata": {
        "id": "view-in-github",
        "colab_type": "text"
      },
      "source": [
        "<a href=\"https://colab.research.google.com/github/Auful01/PCVK/blob/main/Week9.ipynb\" target=\"_parent\"><img src=\"https://colab.research.google.com/assets/colab-badge.svg\" alt=\"Open In Colab\"/></a>"
      ]
    },
    {
      "cell_type": "code",
      "execution_count": 1,
      "metadata": {
        "colab": {
          "base_uri": "https://localhost:8080/"
        },
        "id": "131aztT8Yav0",
        "outputId": "04416c04-aa8e-430f-ba2f-118b272a3527"
      },
      "outputs": [
        {
          "output_type": "stream",
          "name": "stdout",
          "text": [
            "Mounted at /content/drive\n"
          ]
        }
      ],
      "source": [
        "from google.colab import drive\n",
        "drive.mount('/content/drive')"
      ]
    },
    {
      "cell_type": "code",
      "source": [
        "import cv2 as cv\n",
        "from google.colab.patches import cv2_imshow\n",
        "from skimage import io\n",
        "import matplotlib.pyplot as plt\n",
        "import numpy as np\n",
        "\n",
        "original = cv.imread('/content/drive/MyDrive/PCVK/j.png',0)\n",
        "\n",
        "cv2_imshow(original)"
      ],
      "metadata": {
        "colab": {
          "base_uri": "https://localhost:8080/",
          "height": 167
        },
        "id": "BjWUc5gJYmqm",
        "outputId": "7c51fd05-f7f3-4dd2-b3b7-efed7689c18a"
      },
      "execution_count": 36,
      "outputs": [
        {
          "output_type": "display_data",
          "data": {
            "text/plain": [
              "<PIL.Image.Image image mode=L size=112x150 at 0x7F47F1E1DFD0>"
            ],
            "image/png": "[encoded data removed]"
          },
          "metadata": {}
        }
      ]
    },
    {
      "cell_type": "code",
      "source": [
        "c,d = original.shape\n",
        "imgDil = np.zeros((c,d) , dtype=np.uint8)\n",
        "\n",
        "# SED = np.array([[0,1,0],[1,1,1],[0,1,0]])\n",
        "# constant1 = 1\n",
        "k= 5\n",
        "SED = np.ones((k,k) , dtype=np.uint8)\n",
        "constant = (k-1)//2\n",
        "\n",
        "for i in range(constant, c-constant):\n",
        "  for j in range(constant, d-constant):\n",
        "    temp = original[i-constant:i+constant+1, j-constant:j+constant+1]\n",
        "    product = temp*SED\n",
        "    imgDil[i, j] = np.max(product)\n",
        "\n",
        "plt.imshow(imgDil, cmap=\"gray\")"
      ],
      "metadata": {
        "colab": {
          "base_uri": "https://localhost:8080/",
          "height": 286
        },
        "id": "njn6H5RMZVv9",
        "outputId": "598a1419-5e42-4b55-fa00-47396b640123"
      },
      "execution_count": 38,
      "outputs": [
        {
          "output_type": "execute_result",
          "data": {
            "text/plain": [
              "<matplotlib.image.AxesImage at 0x7f47f1d920d0>"
            ]
          },
          "metadata": {},
          "execution_count": 38
        },
        {
          "output_type": "display_data",
          "data": {
            "text/plain": [
              "<Figure size 432x288 with 1 Axes>"
            ],
            "image/png": "[encoded data removed]"
          },
          "metadata": {
            "needs_background": "light"
          }
        }
      ]
    },
    {
      "cell_type": "code",
      "source": [
        "img= cv.imread('/content/drive/MyDrive/PCVK/j.png', 0)\n",
        "a,b= img.shape \n",
        "imgEro = np.zeros((a,b), dtype=np.uint8)\n",
        "k=5\n",
        "SE = np.ones((k,k) , dtype=np.uint8)\n",
        "constant = (k-1)//2\n",
        "print(SE)\n",
        "for i in range(constant, a-constant):\n",
        "  for j in range(constant, b-constant):\n",
        "    temp = img[i-constant:i+constant+1, j-constant:j+constant+1]\n",
        "    product = temp*SE\n",
        "    imgEro[i, j] = np.min(product)\n",
        "\n",
        "plt.imshow(imgEro, cmap=\"gray\")"
      ],
      "metadata": {
        "colab": {
          "base_uri": "https://localhost:8080/",
          "height": 373
        },
        "id": "mAlzeOj6amC6",
        "outputId": "12e6485f-e14f-4760-c315-b4f64aea31ed"
      },
      "execution_count": 26,
      "outputs": [
        {
          "output_type": "stream",
          "name": "stdout",
          "text": [
            "[[1 1 1 1 1]\n",
            " [1 1 1 1 1]\n",
            " [1 1 1 1 1]\n",
            " [1 1 1 1 1]\n",
            " [1 1 1 1 1]]\n"
          ]
        },
        {
          "output_type": "execute_result",
          "data": {
            "text/plain": [
              "<matplotlib.image.AxesImage at 0x7f47f1fff3d0>"
            ]
          },
          "metadata": {},
          "execution_count": 26
        },
        {
          "output_type": "display_data",
          "data": {
            "text/plain": [
              "<Figure size 432x288 with 1 Axes>"
            ],
            "image/png": "[encoded data removed]"
          },
          "metadata": {
            "needs_background": "light"
          }
        }
      ]
    },
    {
      "cell_type": "code",
      "source": [
        ""
      ],
      "metadata": {
        "id": "aimA7I7hdDmC"
      },
      "execution_count": 38,
      "outputs": []
    },
    {
      "cell_type": "code",
      "source": [
        ""
      ],
      "metadata": {
        "id": "tOnQSsraekAp"
      },
      "execution_count": null,
      "outputs": []
    }
  ]
}